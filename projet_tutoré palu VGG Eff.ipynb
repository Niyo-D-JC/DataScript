{
  "cells": [
    {
      "cell_type": "code",
      "execution_count": 1,
      "metadata": {
        "colab": {
          "base_uri": "https://localhost:8080/"
        },
        "id": "iJ2OVmDr9SjR",
        "outputId": "2b31f91f-036a-4abb-e48c-c349f86f70ad"
      },
      "outputs": [
        {
          "output_type": "stream",
          "name": "stdout",
          "text": [
            "Mounted at /content/drive\n"
          ]
        }
      ],
      "source": [
        "from google.colab import drive\n",
        "drive.mount('/content/drive')"
      ]
    },
    {
      "cell_type": "markdown",
      "metadata": {
        "id": "5Du0mf4TZAL5"
      },
      "source": [
        "# VGG16"
      ]
    },
    {
      "cell_type": "code",
      "source": [
        "import zipfile"
      ],
      "metadata": {
        "id": "sWNhkyxK7_l2"
      },
      "execution_count": 5,
      "outputs": []
    },
    {
      "cell_type": "code",
      "source": [
        "# Chemin vers le fichier ZIP\n",
        "zip_path = '/content/drive/MyDrive/Malaria Cell Images DataSet/archive.zip'\n",
        "# Chemin vers le répertoire où extraire les fichiers\n",
        "extract_path = '/content/Malaria_Cell_Images'\n",
        "\n",
        "# Décompression\n",
        "with zipfile.ZipFile(zip_path, 'r') as zip_ref:\n",
        "    zip_ref.extractall(extract_path)"
      ],
      "metadata": {
        "id": "9EKBSfz-724p"
      },
      "execution_count": 6,
      "outputs": []
    },
    {
      "cell_type": "code",
      "execution_count": 7,
      "metadata": {
        "id": "FVLOYe3mY71S"
      },
      "outputs": [],
      "source": [
        "import torch\n",
        "import torch.nn as nn\n",
        "import torch.optim as optim\n",
        "from torchvision import datasets, transforms, models\n",
        "from torch.utils.data import DataLoader\n",
        "import os\n",
        "import numpy as np\n",
        "import matplotlib.pyplot as plt\n",
        "from sklearn.metrics import (\n",
        "    roc_curve, auc, f1_score, classification_report,\n",
        "    roc_auc_score, confusion_matrix, ConfusionMatrixDisplay,\n",
        "    accuracy_score, precision_score, recall_score\n",
        ")"
      ]
    },
    {
      "cell_type": "code",
      "source": [
        "# Détection de l'appareil (GPU si disponible, sinon CPU)\n",
        "device = torch.device('cuda' if torch.cuda.is_available() else 'cpu')\n",
        "print(f\"Using device: {device}\")\n",
        "\n",
        "# Chemin d'accès aux images\n",
        "image_root = '/content/Malaria_Cell_Images/cell_images'"
      ],
      "metadata": {
        "colab": {
          "base_uri": "https://localhost:8080/"
        },
        "id": "zpxM0rHG84Uh",
        "outputId": "b75ea3c3-e41b-4a46-db17-bd01e4eac0fe"
      },
      "execution_count": 8,
      "outputs": [
        {
          "output_type": "stream",
          "name": "stdout",
          "text": [
            "Using device: cuda\n"
          ]
        }
      ]
    },
    {
      "cell_type": "code",
      "source": [
        "import os\n",
        "from keras.preprocessing.image import load_img, img_to_array\n",
        "import numpy as np\n",
        "from PIL import Image, UnidentifiedImageError\n",
        "\n",
        "# Directories for the images\n",
        "parasitized_dir = '/content/Malaria_Cell_Images/cell_images/Parasitized'\n",
        "uninfected_dir = '/content/Malaria_Cell_Images/cell_images/Uninfected'\n",
        "\n",
        "#infected_dir = '/content/Malaria_Cell_Images/cell_images/Parasitized'\n",
        "#uninfected_dir = '/content/Malaria_Cell_Images/cell_images/Uninfected'\n",
        "\n",
        "# Initialize lists to store images and labels\n",
        "images = []\n",
        "labels = []\n",
        "\n",
        "# Helper function to check if a file is an image\n",
        "def is_image_file(filename):\n",
        "    try:\n",
        "        img = Image.open(filename)\n",
        "        img.verify()  # Verify that it is an actual image\n",
        "        return True\n",
        "    except (IOError, SyntaxError, UnidentifiedImageError):\n",
        "        return False\n",
        "\n",
        "# Load Parasitized images\n",
        "for filename in os.listdir(parasitized_dir):\n",
        "    img_path = os.path.join(parasitized_dir, filename)\n",
        "    if is_image_file(img_path):\n",
        "        img = load_img(img_path, target_size=(50, 50))  # Resize if necessary\n",
        "        img_array = img_to_array(img)\n",
        "        images.append(img_array)\n",
        "        labels.append(1)  # Label for parasitized\n",
        "\n",
        "# Load Uninfected images\n",
        "for filename in os.listdir(uninfected_dir):\n",
        "    img_path = os.path.join(uninfected_dir, filename)\n",
        "    if is_image_file(img_path):\n",
        "        img = load_img(img_path, target_size=(50, 50))\n",
        "        img_array = img_to_array(img)\n",
        "        images.append(img_array)\n",
        "        labels.append(0)  # Label for uninfected\n",
        "\n",
        "# Convert lists to numpy arrays\n",
        "images = np.array(images)\n",
        "labels = np.array(labels)\n",
        "\n",
        "print(\"Images shape:\", images.shape)\n",
        "print(\"Labels shape:\", labels.shape)"
      ],
      "metadata": {
        "colab": {
          "base_uri": "https://localhost:8080/"
        },
        "id": "6shOKQp9b52i",
        "outputId": "3e67dbb4-cbc7-44c4-b0bb-7abd37565af5"
      },
      "execution_count": 14,
      "outputs": [
        {
          "output_type": "stream",
          "name": "stdout",
          "text": [
            "Images shape: (27558, 50, 50, 3)\n",
            "Labels shape: (27558,)\n"
          ]
        }
      ]
    },
    {
      "cell_type": "code",
      "source": [
        "import numpy as np\n",
        "from tensorflow.keras.applications import VGG16\n",
        "from tensorflow.keras.layers import Dense, Flatten\n",
        "from tensorflow.keras.models import Model\n",
        "from tensorflow.keras.optimizers import Adam\n",
        "from sklearn.model_selection import train_test_split\n",
        "from sklearn.metrics import roc_curve, auc\n",
        "import matplotlib.pyplot as plt"
      ],
      "metadata": {
        "id": "Rk4FChW-b8OI"
      },
      "execution_count": 10,
      "outputs": []
    },
    {
      "cell_type": "code",
      "source": [
        "X_train, X_test, y_train, y_test = train_test_split(images, labels, test_size=0.2, random_state=42)\n",
        "\n",
        "# Charger le modèle VGG16 pré-entraîné, sans les couches supérieures\n",
        "vgg = VGG16(weights='imagenet', include_top=False, input_shape=(50, 50, 3))\n",
        "\n",
        "# Geler les couches du modèle VGG16\n",
        "for layer in vgg.layers:\n",
        "    layer.trainable = False"
      ],
      "metadata": {
        "id": "zjXHr-NtcSAa"
      },
      "execution_count": 16,
      "outputs": []
    },
    {
      "cell_type": "code",
      "source": [
        "# Ajouter des couches de classification\n",
        "x = Flatten()(vgg.output)\n",
        "x = Dense(128, activation='relu')(x)\n",
        "x = Dense(1, activation='sigmoid')(x)\n",
        "\n",
        "# Créer le modèle\n",
        "model = Model(inputs=vgg.input, outputs=x)\n",
        "\n",
        "# Compiler le modèle\n",
        "model.compile(optimizer=Adam(learning_rate=0.001), loss='binary_crossentropy', metrics=['accuracy', 'Precision', 'Recall', 'AUC'])\n",
        "\n",
        "# Entraîner le modèle\n",
        "history = model.fit(X_train, y_train, epochs=10, validation_data=(X_test, y_test))"
      ],
      "metadata": {
        "colab": {
          "base_uri": "https://localhost:8080/"
        },
        "id": "mTem92Znckec",
        "outputId": "0ca8b1e9-8c24-434d-f701-5cf511625bf3"
      },
      "execution_count": 17,
      "outputs": [
        {
          "output_type": "stream",
          "name": "stdout",
          "text": [
            "Epoch 1/10\n",
            "\u001b[1m689/689\u001b[0m \u001b[32m━━━━━━━━━━━━━━━━━━━━\u001b[0m\u001b[37m\u001b[0m \u001b[1m25s\u001b[0m 26ms/step - AUC: 0.9163 - Precision: 0.8645 - Recall: 0.8527 - accuracy: 0.8606 - loss: 0.6634 - val_AUC: 0.9625 - val_Precision: 0.9253 - val_Recall: 0.8724 - val_accuracy: 0.8995 - val_loss: 0.2892\n",
            "Epoch 2/10\n",
            "\u001b[1m689/689\u001b[0m \u001b[32m━━━━━━━━━━━━━━━━━━━━\u001b[0m\u001b[37m\u001b[0m \u001b[1m30s\u001b[0m 17ms/step - AUC: 0.9713 - Precision: 0.9224 - Recall: 0.9093 - accuracy: 0.9164 - loss: 0.2250 - val_AUC: 0.9683 - val_Precision: 0.9389 - val_Recall: 0.8738 - val_accuracy: 0.9071 - val_loss: 0.2441\n",
            "Epoch 3/10\n",
            "\u001b[1m689/689\u001b[0m \u001b[32m━━━━━━━━━━━━━━━━━━━━\u001b[0m\u001b[37m\u001b[0m \u001b[1m21s\u001b[0m 18ms/step - AUC: 0.9752 - Precision: 0.9276 - Recall: 0.9134 - accuracy: 0.9215 - loss: 0.2014 - val_AUC: 0.9697 - val_Precision: 0.9247 - val_Recall: 0.8960 - val_accuracy: 0.9102 - val_loss: 0.2353\n",
            "Epoch 4/10\n",
            "\u001b[1m689/689\u001b[0m \u001b[32m━━━━━━━━━━━━━━━━━━━━\u001b[0m\u001b[37m\u001b[0m \u001b[1m12s\u001b[0m 18ms/step - AUC: 0.9814 - Precision: 0.9381 - Recall: 0.9255 - accuracy: 0.9328 - loss: 0.1726 - val_AUC: 0.9715 - val_Precision: 0.9031 - val_Recall: 0.9267 - val_accuracy: 0.9124 - val_loss: 0.2266\n",
            "Epoch 5/10\n",
            "\u001b[1m689/689\u001b[0m \u001b[32m━━━━━━━━━━━━━━━━━━━━\u001b[0m\u001b[37m\u001b[0m \u001b[1m12s\u001b[0m 17ms/step - AUC: 0.9821 - Precision: 0.9411 - Recall: 0.9275 - accuracy: 0.9345 - loss: 0.1686 - val_AUC: 0.9707 - val_Precision: 0.9175 - val_Recall: 0.9142 - val_accuracy: 0.9147 - val_loss: 0.2301\n",
            "Epoch 6/10\n",
            "\u001b[1m689/689\u001b[0m \u001b[32m━━━━━━━━━━━━━━━━━━━━\u001b[0m\u001b[37m\u001b[0m \u001b[1m20s\u001b[0m 17ms/step - AUC: 0.9855 - Precision: 0.9456 - Recall: 0.9356 - accuracy: 0.9409 - loss: 0.1524 - val_AUC: 0.9689 - val_Precision: 0.9247 - val_Recall: 0.9085 - val_accuracy: 0.9160 - val_loss: 0.2331\n",
            "Epoch 7/10\n",
            "\u001b[1m689/689\u001b[0m \u001b[32m━━━━━━━━━━━━━━━━━━━━\u001b[0m\u001b[37m\u001b[0m \u001b[1m12s\u001b[0m 18ms/step - AUC: 0.9859 - Precision: 0.9484 - Recall: 0.9354 - accuracy: 0.9424 - loss: 0.1488 - val_AUC: 0.9675 - val_Precision: 0.9017 - val_Recall: 0.9249 - val_accuracy: 0.9107 - val_loss: 0.2534\n",
            "Epoch 8/10\n",
            "\u001b[1m689/689\u001b[0m \u001b[32m━━━━━━━━━━━━━━━━━━━━\u001b[0m\u001b[37m\u001b[0m \u001b[1m12s\u001b[0m 17ms/step - AUC: 0.9885 - Precision: 0.9571 - Recall: 0.9429 - accuracy: 0.9501 - loss: 0.1340 - val_AUC: 0.9700 - val_Precision: 0.9255 - val_Recall: 0.9110 - val_accuracy: 0.9176 - val_loss: 0.2395\n",
            "Epoch 9/10\n",
            "\u001b[1m689/689\u001b[0m \u001b[32m━━━━━━━━━━━━━━━━━━━━\u001b[0m\u001b[37m\u001b[0m \u001b[1m12s\u001b[0m 17ms/step - AUC: 0.9907 - Precision: 0.9545 - Recall: 0.9441 - accuracy: 0.9498 - loss: 0.1218 - val_AUC: 0.9703 - val_Precision: 0.9219 - val_Recall: 0.9031 - val_accuracy: 0.9120 - val_loss: 0.2535\n",
            "Epoch 10/10\n",
            "\u001b[1m689/689\u001b[0m \u001b[32m━━━━━━━━━━━━━━━━━━━━\u001b[0m\u001b[37m\u001b[0m \u001b[1m12s\u001b[0m 18ms/step - AUC: 0.9919 - Precision: 0.9630 - Recall: 0.9491 - accuracy: 0.9565 - loss: 0.1123 - val_AUC: 0.9672 - val_Precision: 0.9212 - val_Recall: 0.9067 - val_accuracy: 0.9133 - val_loss: 0.2637\n"
          ]
        }
      ]
    },
    {
      "cell_type": "code",
      "source": [
        "# Prédictions sur l'ensemble de test\n",
        "y_pred = model.predict(X_test)\n",
        "\n",
        "# Calcul de la courbe ROC et AUC\n",
        "fpr, tpr, thresholds = roc_curve(y_test, y_pred)\n",
        "roc_auc = auc(fpr, tpr)\n",
        "\n",
        "# Affichage de la courbe AUC\n",
        "plt.figure()\n",
        "plt.plot(fpr, tpr, color='darkorange', lw=2, label='Courbe ROC (AUC = %0.2f)' % roc_auc)\n",
        "plt.plot([0, 1], [0, 1], color='navy', lw=2, linestyle='--')\n",
        "plt.xlim([0.0, 1.0])\n",
        "plt.ylim([0.0, 1.05])\n",
        "plt.xlabel('Taux de Faux Positifs')\n",
        "plt.ylabel('Taux de Vrais Positifs')\n",
        "plt.title('Courbe ROC')\n",
        "plt.legend(loc=\"lower right\")\n",
        "plt.show()"
      ],
      "metadata": {
        "colab": {
          "base_uri": "https://localhost:8080/",
          "height": 489
        },
        "id": "r6YDC4zncxmH",
        "outputId": "4bb60426-3bfa-47b3-81a2-fd90ea1d6a7f"
      },
      "execution_count": 18,
      "outputs": [
        {
          "output_type": "stream",
          "name": "stdout",
          "text": [
            "\u001b[1m173/173\u001b[0m \u001b[32m━━━━━━━━━━━━━━━━━━━━\u001b[0m\u001b[37m\u001b[0m \u001b[1m3s\u001b[0m 15ms/step\n"
          ]
        },
        {
          "output_type": "display_data",
          "data": {
            "text/plain": [
              "<Figure size 640x480 with 1 Axes>"
            ],
            "image/png": "[encoded data removed]"
          },
          "metadata": {}
        }
      ]
    },
    {
      "cell_type": "markdown",
      "metadata": {
        "id": "Bv-TZaIBnIig"
      },
      "source": [
        "EffiscientNet"
      ]
    },
    {
      "cell_type": "markdown",
      "metadata": {
        "id": "OvdTZJc6EYxQ"
      },
      "source": [
        "EffiscientNet B3"
      ]
    },
    {
      "cell_type": "code",
      "execution_count": 19,
      "metadata": {
        "id": "fn6pKTXiEeRA"
      },
      "outputs": [],
      "source": [
        "import numpy as np\n",
        "from tensorflow.keras.applications import EfficientNetB0\n",
        "from tensorflow.keras.layers import Dense, Flatten\n",
        "from tensorflow.keras.models import Model\n",
        "from tensorflow.keras.optimizers import Adam\n",
        "from sklearn.model_selection import train_test_split\n",
        "from sklearn.metrics import roc_curve, auc\n",
        "import matplotlib.pyplot as plt"
      ]
    },
    {
      "cell_type": "code",
      "source": [
        "# Charger le modèle EfficientNetB0 pré-entraîné, sans les couches supérieures\n",
        "efficient_net = EfficientNetB0(weights='imagenet', include_top=False, input_shape=(50, 50, 3))\n",
        "\n",
        "# Geler les couches du modèle EfficientNet\n",
        "for layer in efficient_net.layers:\n",
        "    layer.trainable = False"
      ],
      "metadata": {
        "colab": {
          "base_uri": "https://localhost:8080/"
        },
        "id": "u0kbvp5QerSK",
        "outputId": "3f05813d-3a95-4cf8-b2b0-e9622a3e723f"
      },
      "execution_count": 20,
      "outputs": [
        {
          "output_type": "stream",
          "name": "stdout",
          "text": [
            "Downloading data from https://storage.googleapis.com/keras-applications/efficientnetb0_notop.h5\n",
            "\u001b[1m16705208/16705208\u001b[0m \u001b[32m━━━━━━━━━━━━━━━━━━━━\u001b[0m\u001b[37m\u001b[0m \u001b[1m2s\u001b[0m 0us/step\n"
          ]
        }
      ]
    },
    {
      "cell_type": "code",
      "execution_count": 21,
      "metadata": {
        "id": "5kQOHpUOEfFj"
      },
      "outputs": [],
      "source": [
        "# Ajouter des couches de classification\n",
        "x = Flatten()(efficient_net.output)\n",
        "x = Dense(128, activation='relu')(x)\n",
        "x = Dense(1, activation='sigmoid')(x)\n",
        "\n",
        "# Créer le modèle\n",
        "model = Model(inputs=efficient_net.input, outputs=x)\n",
        "\n",
        "# Compiler le modèle avec plusieurs métriques\n",
        "model.compile(optimizer=Adam(learning_rate=0.001),\n",
        "              loss='binary_crossentropy',\n",
        "              metrics=['accuracy', 'Precision', 'Recall', 'AUC'])"
      ]
    },
    {
      "cell_type": "code",
      "execution_count": 22,
      "metadata": {
        "id": "ppLosHciEfCF",
        "colab": {
          "base_uri": "https://localhost:8080/"
        },
        "outputId": "e4dc91f4-7900-47fb-bf16-d5978d052e5a"
      },
      "outputs": [
        {
          "output_type": "stream",
          "name": "stdout",
          "text": [
            "Epoch 1/10\n",
            "\u001b[1m689/689\u001b[0m \u001b[32m━━━━━━━━━━━━━━━━━━━━\u001b[0m\u001b[37m\u001b[0m \u001b[1m60s\u001b[0m 42ms/step - AUC: 0.9301 - Precision: 0.8490 - Recall: 0.8580 - accuracy: 0.8554 - loss: 0.3306 - val_AUC: 0.9722 - val_Precision: 0.9628 - val_Recall: 0.8041 - val_accuracy: 0.8848 - val_loss: 0.2690\n",
            "Epoch 2/10\n",
            "\u001b[1m689/689\u001b[0m \u001b[32m━━━━━━━━━━━━━━━━━━━━\u001b[0m\u001b[37m\u001b[0m \u001b[1m46s\u001b[0m 10ms/step - AUC: 0.9656 - Precision: 0.9008 - Recall: 0.8952 - accuracy: 0.8979 - loss: 0.2378 - val_AUC: 0.9723 - val_Precision: 0.9338 - val_Recall: 0.8731 - val_accuracy: 0.9042 - val_loss: 0.2333\n",
            "Epoch 3/10\n",
            "\u001b[1m689/689\u001b[0m \u001b[32m━━━━━━━━━━━━━━━━━━━━\u001b[0m\u001b[37m\u001b[0m \u001b[1m8s\u001b[0m 11ms/step - AUC: 0.9695 - Precision: 0.9105 - Recall: 0.9108 - accuracy: 0.9107 - loss: 0.2232 - val_AUC: 0.9746 - val_Precision: 0.9608 - val_Recall: 0.8323 - val_accuracy: 0.8977 - val_loss: 0.2508\n",
            "Epoch 4/10\n",
            "\u001b[1m689/689\u001b[0m \u001b[32m━━━━━━━━━━━━━━━━━━━━\u001b[0m\u001b[37m\u001b[0m \u001b[1m7s\u001b[0m 10ms/step - AUC: 0.9755 - Precision: 0.9190 - Recall: 0.9132 - accuracy: 0.9168 - loss: 0.1999 - val_AUC: 0.9766 - val_Precision: 0.9019 - val_Recall: 0.9339 - val_accuracy: 0.9149 - val_loss: 0.2040\n",
            "Epoch 5/10\n",
            "\u001b[1m689/689\u001b[0m \u001b[32m━━━━━━━━━━━━━━━━━━━━\u001b[0m\u001b[37m\u001b[0m \u001b[1m8s\u001b[0m 11ms/step - AUC: 0.9762 - Precision: 0.9221 - Recall: 0.9167 - accuracy: 0.9207 - loss: 0.1968 - val_AUC: 0.9769 - val_Precision: 0.9188 - val_Recall: 0.9221 - val_accuracy: 0.9191 - val_loss: 0.1967\n",
            "Epoch 6/10\n",
            "\u001b[1m689/689\u001b[0m \u001b[32m━━━━━━━━━━━━━━━━━━━━\u001b[0m\u001b[37m\u001b[0m \u001b[1m7s\u001b[0m 9ms/step - AUC: 0.9757 - Precision: 0.9220 - Recall: 0.9161 - accuracy: 0.9199 - loss: 0.1991 - val_AUC: 0.9759 - val_Precision: 0.9417 - val_Recall: 0.8842 - val_accuracy: 0.9135 - val_loss: 0.2133\n",
            "Epoch 7/10\n",
            "\u001b[1m689/689\u001b[0m \u001b[32m━━━━━━━━━━━━━━━━━━━━\u001b[0m\u001b[37m\u001b[0m \u001b[1m9s\u001b[0m 14ms/step - AUC: 0.9782 - Precision: 0.9271 - Recall: 0.9224 - accuracy: 0.9257 - loss: 0.1877 - val_AUC: 0.9780 - val_Precision: 0.9300 - val_Recall: 0.9171 - val_accuracy: 0.9229 - val_loss: 0.1961\n",
            "Epoch 8/10\n",
            "\u001b[1m689/689\u001b[0m \u001b[32m━━━━━━━━━━━━━━━━━━━━\u001b[0m\u001b[37m\u001b[0m \u001b[1m6s\u001b[0m 9ms/step - AUC: 0.9792 - Precision: 0.9288 - Recall: 0.9224 - accuracy: 0.9255 - loss: 0.1849 - val_AUC: 0.9785 - val_Precision: 0.9518 - val_Recall: 0.8820 - val_accuracy: 0.9175 - val_loss: 0.2050\n",
            "Epoch 9/10\n",
            "\u001b[1m689/689\u001b[0m \u001b[32m━━━━━━━━━━━━━━━━━━━━\u001b[0m\u001b[37m\u001b[0m \u001b[1m7s\u001b[0m 11ms/step - AUC: 0.9783 - Precision: 0.9219 - Recall: 0.9194 - accuracy: 0.9217 - loss: 0.1880 - val_AUC: 0.9787 - val_Precision: 0.9230 - val_Recall: 0.9260 - val_accuracy: 0.9233 - val_loss: 0.1901\n",
            "Epoch 10/10\n",
            "\u001b[1m689/689\u001b[0m \u001b[32m━━━━━━━━━━━━━━━━━━━━\u001b[0m\u001b[37m\u001b[0m \u001b[1m9s\u001b[0m 9ms/step - AUC: 0.9798 - Precision: 0.9310 - Recall: 0.9201 - accuracy: 0.9268 - loss: 0.1811 - val_AUC: 0.9785 - val_Precision: 0.9141 - val_Recall: 0.9360 - val_accuracy: 0.9229 - val_loss: 0.1890\n"
          ]
        }
      ],
      "source": [
        "# Entraîner le modèle\n",
        "history = model.fit(X_train, y_train, epochs=10, validation_data=(X_test, y_test))"
      ]
    },
    {
      "cell_type": "code",
      "execution_count": 23,
      "metadata": {
        "id": "50-o_UirEe8k",
        "colab": {
          "base_uri": "https://localhost:8080/",
          "height": 489
        },
        "outputId": "8743179f-a8e9-43d3-f199-2fdcbf80e10e"
      },
      "outputs": [
        {
          "output_type": "stream",
          "name": "stdout",
          "text": [
            "\u001b[1m173/173\u001b[0m \u001b[32m━━━━━━━━━━━━━━━━━━━━\u001b[0m\u001b[37m\u001b[0m \u001b[1m13s\u001b[0m 38ms/step\n"
          ]
        },
        {
          "output_type": "display_data",
          "data": {
            "text/plain": [
              "<Figure size 640x480 with 1 Axes>"
            ],
            "image/png": "[encoded data removed]"
          },
          "metadata": {}
        }
      ],
      "source": [
        "# Prédictions sur l'ensemble de test\n",
        "y_pred = model.predict(X_test)\n",
        "\n",
        "# Calcul de la courbe ROC et AUC\n",
        "fpr, tpr, thresholds = roc_curve(y_test, y_pred)\n",
        "roc_auc = auc(fpr, tpr)\n",
        "\n",
        "# Affichage de la courbe AUC\n",
        "plt.figure()\n",
        "plt.plot(fpr, tpr, color='darkorange', lw=2, label='Courbe ROC (AUC = %0.2f)' % roc_auc)\n",
        "plt.plot([0, 1], [0, 1], color='navy', lw=2, linestyle='--')\n",
        "plt.xlim([0.0, 1.0])\n",
        "plt.ylim([0.0, 1.05])\n",
        "plt.xlabel('Taux de Faux Positifs')\n",
        "plt.ylabel('Taux de Vrais Positifs')\n",
        "plt.title('Courbe ROC')\n",
        "plt.legend(loc=\"lower right\")\n",
        "plt.show()"
      ]
    },
    {
      "cell_type": "code",
      "source": [],
      "metadata": {
        "id": "uUhsHJC_fM-J"
      },
      "execution_count": null,
      "outputs": []
    }
  ],
  "metadata": {
    "accelerator": "GPU",
    "colab": {
      "cell_execution_strategy": "setup",
      "gpuType": "T4",
      "provenance": []
    },
    "kernelspec": {
      "display_name": "Python 3",
      "name": "python3"
    },
    "language_info": {
      "codemirror_mode": {
        "name": "ipython",
        "version": 3
      },
      "file_extension": ".py",
      "mimetype": "text/x-python",
      "name": "python",
      "nbconvert_exporter": "python",
      "pygments_lexer": "ipython3",
      "version": "3.12.6"
    }
  },
  "nbformat": 4,
  "nbformat_minor": 0
}