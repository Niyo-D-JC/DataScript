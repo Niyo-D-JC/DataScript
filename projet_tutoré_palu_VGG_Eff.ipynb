{
  "cells": [
    {
      "cell_type": "code",
      "execution_count": 1,
      "metadata": {
        "colab": {
          "base_uri": "https://localhost:8080/"
        },
        "id": "iJ2OVmDr9SjR",
        "outputId": "b0cd4c24-a7ed-40d5-91ac-e0294124898d"
      },
      "outputs": [
        {
          "output_type": "stream",
          "name": "stdout",
          "text": [
            "Mounted at /content/drive\n"
          ]
        }
      ],
      "source": [
        "from google.colab import drive\n",
        "drive.mount('/content/drive')"
      ]
    },
    {
      "cell_type": "markdown",
      "metadata": {
        "id": "5Du0mf4TZAL5"
      },
      "source": [
        "# VGG16"
      ]
    },
    {
      "cell_type": "code",
      "source": [
        "import zipfile"
      ],
      "metadata": {
        "id": "sWNhkyxK7_l2"
      },
      "execution_count": 2,
      "outputs": []
    },
    {
      "cell_type": "code",
      "source": [
        "# Chemin vers le fichier ZIP\n",
        "zip_path = '/content/drive/MyDrive/Malaria Cell Images DataSet/archive.zip'\n",
        "# Chemin vers le répertoire où extraire les fichiers\n",
        "extract_path = '/content/Malaria_Cell_Images'\n",
        "\n",
        "# Décompression\n",
        "with zipfile.ZipFile(zip_path, 'r') as zip_ref:\n",
        "    zip_ref.extractall(extract_path)"
      ],
      "metadata": {
        "id": "9EKBSfz-724p"
      },
      "execution_count": 3,
      "outputs": []
    },
    {
      "cell_type": "code",
      "execution_count": 4,
      "metadata": {
        "id": "FVLOYe3mY71S"
      },
      "outputs": [],
      "source": [
        "import torch\n",
        "import torch.nn as nn\n",
        "import torch.optim as optim\n",
        "from torchvision import datasets, transforms, models\n",
        "from torch.utils.data import DataLoader\n",
        "import os\n",
        "import numpy as np\n",
        "import matplotlib.pyplot as plt\n",
        "from sklearn.metrics import (\n",
        "    roc_curve, auc, f1_score, classification_report,\n",
        "    roc_auc_score, confusion_matrix, ConfusionMatrixDisplay,\n",
        "    accuracy_score, precision_score, recall_score\n",
        ")"
      ]
    },
    {
      "cell_type": "code",
      "source": [
        "# Détection de l'appareil (GPU si disponible, sinon CPU)\n",
        "device = torch.device('cuda' if torch.cuda.is_available() else 'cpu')\n",
        "print(f\"Using device: {device}\")\n",
        "\n",
        "# Chemin d'accès aux images\n",
        "image_root = '/content/Malaria_Cell_Images/cell_images'"
      ],
      "metadata": {
        "colab": {
          "base_uri": "https://localhost:8080/"
        },
        "id": "zpxM0rHG84Uh",
        "outputId": "911f3abf-d1a1-4117-ceb6-79408dba565f"
      },
      "execution_count": 5,
      "outputs": [
        {
          "output_type": "stream",
          "name": "stdout",
          "text": [
            "Using device: cuda\n"
          ]
        }
      ]
    },
    {
      "cell_type": "code",
      "source": [
        "import os\n",
        "from keras.preprocessing.image import load_img, img_to_array\n",
        "import numpy as np\n",
        "from PIL import Image, UnidentifiedImageError\n",
        "\n",
        "# Directories for the images\n",
        "parasitized_dir = '/content/Malaria_Cell_Images/cell_images/Parasitized'\n",
        "uninfected_dir = '/content/Malaria_Cell_Images/cell_images/Uninfected'\n",
        "\n",
        "#infected_dir = '/content/Malaria_Cell_Images/cell_images/Parasitized'\n",
        "#uninfected_dir = '/content/Malaria_Cell_Images/cell_images/Uninfected'\n",
        "\n",
        "# Initialize lists to store images and labels\n",
        "images = []\n",
        "labels = []\n",
        "\n",
        "# Helper function to check if a file is an image\n",
        "def is_image_file(filename):\n",
        "    try:\n",
        "        img = Image.open(filename)\n",
        "        img.verify()  # Verify that it is an actual image\n",
        "        return True\n",
        "    except (IOError, SyntaxError, UnidentifiedImageError):\n",
        "        return False\n",
        "\n",
        "# Load Parasitized images\n",
        "for filename in os.listdir(parasitized_dir):\n",
        "    img_path = os.path.join(parasitized_dir, filename)\n",
        "    if is_image_file(img_path):\n",
        "        img = load_img(img_path, target_size=(50, 50))  # Resize if necessary\n",
        "        img_array = img_to_array(img)\n",
        "        images.append(img_array)\n",
        "        labels.append(1)  # Label for parasitized\n",
        "\n",
        "# Load Uninfected images\n",
        "for filename in os.listdir(uninfected_dir):\n",
        "    img_path = os.path.join(uninfected_dir, filename)\n",
        "    if is_image_file(img_path):\n",
        "        img = load_img(img_path, target_size=(50, 50))\n",
        "        img_array = img_to_array(img)\n",
        "        images.append(img_array)\n",
        "        labels.append(0)  # Label for uninfected\n",
        "\n",
        "# Convert lists to numpy arrays\n",
        "images = np.array(images)\n",
        "labels = np.array(labels)\n",
        "\n",
        "print(\"Images shape:\", images.shape)\n",
        "print(\"Labels shape:\", labels.shape)"
      ],
      "metadata": {
        "colab": {
          "base_uri": "https://localhost:8080/"
        },
        "id": "6shOKQp9b52i",
        "outputId": "da2d9e56-cecf-467e-fb59-17596cd57d75"
      },
      "execution_count": 6,
      "outputs": [
        {
          "output_type": "stream",
          "name": "stdout",
          "text": [
            "Images shape: (27558, 50, 50, 3)\n",
            "Labels shape: (27558,)\n"
          ]
        }
      ]
    },
    {
      "cell_type": "code",
      "source": [
        "import numpy as np\n",
        "from tensorflow.keras.applications import VGG16\n",
        "from tensorflow.keras.layers import Dense, Flatten\n",
        "from tensorflow.keras.models import Model\n",
        "from tensorflow.keras.optimizers import Adam\n",
        "from sklearn.model_selection import train_test_split\n",
        "from sklearn.metrics import roc_curve, auc\n",
        "import matplotlib.pyplot as plt"
      ],
      "metadata": {
        "id": "Rk4FChW-b8OI"
      },
      "execution_count": 7,
      "outputs": []
    },
    {
      "cell_type": "code",
      "source": [
        "X_train, X_test, y_train, y_test = train_test_split(images, labels, test_size=0.2, random_state=42)\n",
        "\n",
        "# Charger le modèle VGG16 pré-entraîné, sans les couches supérieures\n",
        "vgg = VGG16(weights='imagenet', include_top=False, input_shape=(50, 50, 3))\n",
        "\n",
        "# Geler les couches du modèle VGG16\n",
        "for layer in vgg.layers:\n",
        "    layer.trainable = False"
      ],
      "metadata": {
        "id": "zjXHr-NtcSAa",
        "colab": {
          "base_uri": "https://localhost:8080/"
        },
        "outputId": "9626820f-f15c-4e1f-ca50-ab6e8b02da5c"
      },
      "execution_count": 8,
      "outputs": [
        {
          "output_type": "stream",
          "name": "stdout",
          "text": [
            "Downloading data from https://storage.googleapis.com/tensorflow/keras-applications/vgg16/vgg16_weights_tf_dim_ordering_tf_kernels_notop.h5\n",
            "\u001b[1m58889256/58889256\u001b[0m \u001b[32m━━━━━━━━━━━━━━━━━━━━\u001b[0m\u001b[37m\u001b[0m \u001b[1m0s\u001b[0m 0us/step\n"
          ]
        }
      ]
    },
    {
      "cell_type": "code",
      "source": [
        "# Ajouter des couches de classification\n",
        "x = Flatten()(vgg.output)\n",
        "x = Dense(128, activation='relu')(x)\n",
        "x = Dense(1, activation='sigmoid')(x)\n",
        "\n",
        "# Créer le modèle\n",
        "model = Model(inputs=vgg.input, outputs=x)\n",
        "\n",
        "# Compiler le modèle\n",
        "model.compile(optimizer=Adam(learning_rate=0.001), loss='binary_crossentropy', metrics=['accuracy', 'Precision', 'Recall', 'AUC'])\n",
        "\n",
        "# Entraîner le modèle\n",
        "history = model.fit(X_train, y_train, epochs=10, validation_data=(X_test, y_test))"
      ],
      "metadata": {
        "colab": {
          "base_uri": "https://localhost:8080/"
        },
        "id": "mTem92Znckec",
        "outputId": "f8873046-c657-4712-b37b-ff13b9de2824"
      },
      "execution_count": 9,
      "outputs": [
        {
          "output_type": "stream",
          "name": "stdout",
          "text": [
            "Epoch 1/10\n",
            "\u001b[1m689/689\u001b[0m \u001b[32m━━━━━━━━━━━━━━━━━━━━\u001b[0m\u001b[37m\u001b[0m \u001b[1m24s\u001b[0m 27ms/step - AUC: 0.9117 - Precision: 0.8592 - Recall: 0.8527 - accuracy: 0.8557 - loss: 0.7139 - val_AUC: 0.9616 - val_Precision: 0.9375 - val_Recall: 0.8634 - val_accuracy: 0.9015 - val_loss: 0.3172\n",
            "Epoch 2/10\n",
            "\u001b[1m689/689\u001b[0m \u001b[32m━━━━━━━━━━━━━━━━━━━━\u001b[0m\u001b[37m\u001b[0m \u001b[1m29s\u001b[0m 16ms/step - AUC: 0.9667 - Precision: 0.9179 - Recall: 0.9022 - accuracy: 0.9109 - loss: 0.2468 - val_AUC: 0.9653 - val_Precision: 0.9205 - val_Recall: 0.8906 - val_accuracy: 0.9055 - val_loss: 0.2504\n",
            "Epoch 3/10\n",
            "\u001b[1m689/689\u001b[0m \u001b[32m━━━━━━━━━━━━━━━━━━━━\u001b[0m\u001b[37m\u001b[0m \u001b[1m12s\u001b[0m 17ms/step - AUC: 0.9745 - Precision: 0.9290 - Recall: 0.9143 - accuracy: 0.9221 - loss: 0.2054 - val_AUC: 0.9679 - val_Precision: 0.9490 - val_Recall: 0.8581 - val_accuracy: 0.9046 - val_loss: 0.2576\n",
            "Epoch 4/10\n",
            "\u001b[1m689/689\u001b[0m \u001b[32m━━━━━━━━━━━━━━━━━━━━\u001b[0m\u001b[37m\u001b[0m \u001b[1m11s\u001b[0m 17ms/step - AUC: 0.9773 - Precision: 0.9307 - Recall: 0.9126 - accuracy: 0.9231 - loss: 0.1920 - val_AUC: 0.9688 - val_Precision: 0.9230 - val_Recall: 0.8963 - val_accuracy: 0.9095 - val_loss: 0.2357\n",
            "Epoch 5/10\n",
            "\u001b[1m689/689\u001b[0m \u001b[32m━━━━━━━━━━━━━━━━━━━━\u001b[0m\u001b[37m\u001b[0m \u001b[1m11s\u001b[0m 16ms/step - AUC: 0.9813 - Precision: 0.9348 - Recall: 0.9219 - accuracy: 0.9297 - loss: 0.1722 - val_AUC: 0.9687 - val_Precision: 0.9466 - val_Recall: 0.8742 - val_accuracy: 0.9111 - val_loss: 0.2459\n",
            "Epoch 6/10\n",
            "\u001b[1m689/689\u001b[0m \u001b[32m━━━━━━━━━━━━━━━━━━━━\u001b[0m\u001b[37m\u001b[0m \u001b[1m11s\u001b[0m 16ms/step - AUC: 0.9856 - Precision: 0.9471 - Recall: 0.9332 - accuracy: 0.9406 - loss: 0.1518 - val_AUC: 0.9662 - val_Precision: 0.9492 - val_Recall: 0.8677 - val_accuracy: 0.9093 - val_loss: 0.2582\n",
            "Epoch 7/10\n",
            "\u001b[1m689/689\u001b[0m \u001b[32m━━━━━━━━━━━━━━━━━━━━\u001b[0m\u001b[37m\u001b[0m \u001b[1m20s\u001b[0m 16ms/step - AUC: 0.9859 - Precision: 0.9492 - Recall: 0.9322 - accuracy: 0.9416 - loss: 0.1502 - val_AUC: 0.9666 - val_Precision: 0.8782 - val_Recall: 0.9335 - val_accuracy: 0.9006 - val_loss: 0.2624\n",
            "Epoch 8/10\n",
            "\u001b[1m689/689\u001b[0m \u001b[32m━━━━━━━━━━━━━━━━━━━━\u001b[0m\u001b[37m\u001b[0m \u001b[1m21s\u001b[0m 17ms/step - AUC: 0.9881 - Precision: 0.9510 - Recall: 0.9423 - accuracy: 0.9466 - loss: 0.1361 - val_AUC: 0.9689 - val_Precision: 0.9264 - val_Recall: 0.8867 - val_accuracy: 0.9067 - val_loss: 0.2511\n",
            "Epoch 9/10\n",
            "\u001b[1m689/689\u001b[0m \u001b[32m━━━━━━━━━━━━━━━━━━━━\u001b[0m\u001b[37m\u001b[0m \u001b[1m12s\u001b[0m 17ms/step - AUC: 0.9902 - Precision: 0.9593 - Recall: 0.9479 - accuracy: 0.9540 - loss: 0.1234 - val_AUC: 0.9658 - val_Precision: 0.9376 - val_Recall: 0.8809 - val_accuracy: 0.9098 - val_loss: 0.2673\n",
            "Epoch 10/10\n",
            "\u001b[1m689/689\u001b[0m \u001b[32m━━━━━━━━━━━━━━━━━━━━\u001b[0m\u001b[37m\u001b[0m \u001b[1m20s\u001b[0m 17ms/step - AUC: 0.9914 - Precision: 0.9602 - Recall: 0.9516 - accuracy: 0.9565 - loss: 0.1139 - val_AUC: 0.9649 - val_Precision: 0.8915 - val_Recall: 0.9281 - val_accuracy: 0.9062 - val_loss: 0.2812\n"
          ]
        }
      ]
    },
    {
      "cell_type": "code",
      "source": [
        "# Prédictions sur l'ensemble de test\n",
        "y_pred = model.predict(X_test)\n",
        "\n",
        "# Calcul de la courbe ROC et AUC\n",
        "fpr, tpr, thresholds = roc_curve(y_test, y_pred)\n",
        "roc_auc = auc(fpr, tpr)\n",
        "\n",
        "# Affichage de la courbe AUC\n",
        "plt.figure()\n",
        "plt.plot(fpr, tpr, color='darkorange', lw=2, label='Courbe ROC (AUC = %0.2f)' % roc_auc)\n",
        "plt.plot([0, 1], [0, 1], color='navy', lw=2, linestyle='--')\n",
        "plt.xlim([0.0, 1.0])\n",
        "plt.ylim([0.0, 1.05])\n",
        "plt.xlabel('Taux de Faux Positifs')\n",
        "plt.ylabel('Taux de Vrais Positifs')\n",
        "plt.title('Courbe ROC')\n",
        "plt.legend(loc=\"lower right\")\n",
        "plt.show()"
      ],
      "metadata": {
        "colab": {
          "base_uri": "https://localhost:8080/",
          "height": 489
        },
        "id": "r6YDC4zncxmH",
        "outputId": "3b80a8c3-02f6-422c-85e5-a27cd4e08c96"
      },
      "execution_count": 10,
      "outputs": [
        {
          "output_type": "stream",
          "name": "stdout",
          "text": [
            "\u001b[1m173/173\u001b[0m \u001b[32m━━━━━━━━━━━━━━━━━━━━\u001b[0m\u001b[37m\u001b[0m \u001b[1m3s\u001b[0m 16ms/step\n"
          ]
        },
        {
          "output_type": "display_data",
          "data": {
            "text/plain": [
              "<Figure size 640x480 with 1 Axes>"
            ],
            "image/png": "[encoded data removed]"
          },
          "metadata": {}
        }
      ]
    },
    {
      "cell_type": "markdown",
      "metadata": {
        "id": "Bv-TZaIBnIig"
      },
      "source": [
        "EffiscientNet"
      ]
    },
    {
      "cell_type": "markdown",
      "metadata": {
        "id": "OvdTZJc6EYxQ"
      },
      "source": [
        "EffiscientNet B3"
      ]
    },
    {
      "cell_type": "code",
      "execution_count": 11,
      "metadata": {
        "id": "fn6pKTXiEeRA"
      },
      "outputs": [],
      "source": [
        "import numpy as np\n",
        "from tensorflow.keras.applications import EfficientNetB0\n",
        "from tensorflow.keras.layers import Dense, Flatten\n",
        "from tensorflow.keras.models import Model\n",
        "from tensorflow.keras.optimizers import Adam\n",
        "from sklearn.model_selection import train_test_split\n",
        "from sklearn.metrics import roc_curve, auc\n",
        "import matplotlib.pyplot as plt"
      ]
    },
    {
      "cell_type": "code",
      "source": [
        "# Charger le modèle EfficientNetB0 pré-entraîné, sans les couches supérieures\n",
        "efficient_net = EfficientNetB0(weights='imagenet', include_top=False, input_shape=(50, 50, 3))\n",
        "\n",
        "# Geler les couches du modèle EfficientNet\n",
        "for layer in efficient_net.layers:\n",
        "    layer.trainable = False"
      ],
      "metadata": {
        "colab": {
          "base_uri": "https://localhost:8080/"
        },
        "id": "u0kbvp5QerSK",
        "outputId": "4d4b1015-378d-43fc-afa0-28a405a63006"
      },
      "execution_count": 12,
      "outputs": [
        {
          "output_type": "stream",
          "name": "stdout",
          "text": [
            "Downloading data from https://storage.googleapis.com/keras-applications/efficientnetb0_notop.h5\n",
            "\u001b[1m16705208/16705208\u001b[0m \u001b[32m━━━━━━━━━━━━━━━━━━━━\u001b[0m\u001b[37m\u001b[0m \u001b[1m0s\u001b[0m 0us/step\n"
          ]
        }
      ]
    },
    {
      "cell_type": "code",
      "execution_count": 13,
      "metadata": {
        "id": "5kQOHpUOEfFj"
      },
      "outputs": [],
      "source": [
        "# Ajouter des couches de classification\n",
        "x = Flatten()(efficient_net.output)\n",
        "x = Dense(128, activation='relu')(x)\n",
        "x = Dense(1, activation='sigmoid')(x)\n",
        "\n",
        "# Créer le modèle\n",
        "model = Model(inputs=efficient_net.input, outputs=x)\n",
        "\n",
        "# Compiler le modèle avec plusieurs métriques\n",
        "model.compile(optimizer=Adam(learning_rate=0.001),\n",
        "              loss='binary_crossentropy',\n",
        "              metrics=['accuracy', 'Precision', 'Recall', 'AUC'])"
      ]
    },
    {
      "cell_type": "code",
      "execution_count": 14,
      "metadata": {
        "id": "ppLosHciEfCF",
        "colab": {
          "base_uri": "https://localhost:8080/"
        },
        "outputId": "c0b80ea2-b6de-4a4e-cd41-c712dd8d3405"
      },
      "outputs": [
        {
          "output_type": "stream",
          "name": "stdout",
          "text": [
            "Epoch 1/10\n",
            "\u001b[1m689/689\u001b[0m \u001b[32m━━━━━━━━━━━━━━━━━━━━\u001b[0m\u001b[37m\u001b[0m \u001b[1m61s\u001b[0m 57ms/step - AUC: 0.9390 - Precision: 0.8580 - Recall: 0.8687 - accuracy: 0.8629 - loss: 0.3147 - val_AUC: 0.9735 - val_Precision: 0.9125 - val_Recall: 0.9167 - val_accuracy: 0.9131 - val_loss: 0.2114\n",
            "Epoch 2/10\n",
            "\u001b[1m689/689\u001b[0m \u001b[32m━━━━━━━━━━━━━━━━━━━━\u001b[0m\u001b[37m\u001b[0m \u001b[1m39s\u001b[0m 10ms/step - AUC: 0.9668 - Precision: 0.9045 - Recall: 0.9070 - accuracy: 0.9056 - loss: 0.2327 - val_AUC: 0.9763 - val_Precision: 0.9221 - val_Recall: 0.9178 - val_accuracy: 0.9189 - val_loss: 0.1980\n",
            "Epoch 3/10\n",
            "\u001b[1m689/689\u001b[0m \u001b[32m━━━━━━━━━━━━━━━━━━━━\u001b[0m\u001b[37m\u001b[0m \u001b[1m7s\u001b[0m 10ms/step - AUC: 0.9701 - Precision: 0.9125 - Recall: 0.9058 - accuracy: 0.9100 - loss: 0.2207 - val_AUC: 0.9753 - val_Precision: 0.8823 - val_Recall: 0.9485 - val_accuracy: 0.9097 - val_loss: 0.2178\n",
            "Epoch 4/10\n",
            "\u001b[1m689/689\u001b[0m \u001b[32m━━━━━━━━━━━━━━━━━━━━\u001b[0m\u001b[37m\u001b[0m \u001b[1m11s\u001b[0m 11ms/step - AUC: 0.9727 - Precision: 0.9080 - Recall: 0.9058 - accuracy: 0.9083 - loss: 0.2115 - val_AUC: 0.9762 - val_Precision: 0.9290 - val_Recall: 0.9070 - val_accuracy: 0.9176 - val_loss: 0.1998\n",
            "Epoch 5/10\n",
            "\u001b[1m689/689\u001b[0m \u001b[32m━━━━━━━━━━━━━━━━━━━━\u001b[0m\u001b[37m\u001b[0m \u001b[1m6s\u001b[0m 9ms/step - AUC: 0.9768 - Precision: 0.9273 - Recall: 0.9184 - accuracy: 0.9228 - loss: 0.1944 - val_AUC: 0.9755 - val_Precision: 0.9152 - val_Recall: 0.9188 - val_accuracy: 0.9156 - val_loss: 0.2006\n",
            "Epoch 6/10\n",
            "\u001b[1m689/689\u001b[0m \u001b[32m━━━━━━━━━━━━━━━━━━━━\u001b[0m\u001b[37m\u001b[0m \u001b[1m10s\u001b[0m 9ms/step - AUC: 0.9769 - Precision: 0.9210 - Recall: 0.9181 - accuracy: 0.9205 - loss: 0.1938 - val_AUC: 0.9781 - val_Precision: 0.9390 - val_Recall: 0.9020 - val_accuracy: 0.9205 - val_loss: 0.1915\n",
            "Epoch 7/10\n",
            "\u001b[1m689/689\u001b[0m \u001b[32m━━━━━━━━━━━━━━━━━━━━\u001b[0m\u001b[37m\u001b[0m \u001b[1m7s\u001b[0m 10ms/step - AUC: 0.9772 - Precision: 0.9255 - Recall: 0.9199 - accuracy: 0.9232 - loss: 0.1913 - val_AUC: 0.9771 - val_Precision: 0.9001 - val_Recall: 0.9442 - val_accuracy: 0.9185 - val_loss: 0.2044\n",
            "Epoch 8/10\n",
            "\u001b[1m689/689\u001b[0m \u001b[32m━━━━━━━━━━━━━━━━━━━━\u001b[0m\u001b[37m\u001b[0m \u001b[1m7s\u001b[0m 10ms/step - AUC: 0.9800 - Precision: 0.9296 - Recall: 0.9208 - accuracy: 0.9267 - loss: 0.1797 - val_AUC: 0.9785 - val_Precision: 0.9334 - val_Recall: 0.9124 - val_accuracy: 0.9225 - val_loss: 0.1871\n",
            "Epoch 9/10\n",
            "\u001b[1m689/689\u001b[0m \u001b[32m━━━━━━━━━━━━━━━━━━━━\u001b[0m\u001b[37m\u001b[0m \u001b[1m7s\u001b[0m 10ms/step - AUC: 0.9810 - Precision: 0.9362 - Recall: 0.9240 - accuracy: 0.9308 - loss: 0.1743 - val_AUC: 0.9784 - val_Precision: 0.9255 - val_Recall: 0.9242 - val_accuracy: 0.9238 - val_loss: 0.1878\n",
            "Epoch 10/10\n",
            "\u001b[1m689/689\u001b[0m \u001b[32m━━━━━━━━━━━━━━━━━━━━\u001b[0m\u001b[37m\u001b[0m \u001b[1m11s\u001b[0m 10ms/step - AUC: 0.9817 - Precision: 0.9321 - Recall: 0.9279 - accuracy: 0.9308 - loss: 0.1724 - val_AUC: 0.9783 - val_Precision: 0.8899 - val_Recall: 0.9535 - val_accuracy: 0.9165 - val_loss: 0.2019\n"
          ]
        }
      ],
      "source": [
        "# Entraîner le modèle\n",
        "history = model.fit(X_train, y_train, epochs=10, validation_data=(X_test, y_test))"
      ]
    },
    {
      "cell_type": "code",
      "execution_count": 15,
      "metadata": {
        "id": "50-o_UirEe8k",
        "colab": {
          "base_uri": "https://localhost:8080/",
          "height": 489
        },
        "outputId": "57cb963a-e3c3-421d-e9ab-77405927764f"
      },
      "outputs": [
        {
          "output_type": "stream",
          "name": "stdout",
          "text": [
            "\u001b[1m173/173\u001b[0m \u001b[32m━━━━━━━━━━━━━━━━━━━━\u001b[0m\u001b[37m\u001b[0m \u001b[1m13s\u001b[0m 37ms/step\n"
          ]
        },
        {
          "output_type": "display_data",
          "data": {
            "text/plain": [
              "<Figure size 640x480 with 1 Axes>"
            ],
            "image/png": "[encoded data removed]"
          },
          "metadata": {}
        }
      ],
      "source": [
        "# Prédictions sur l'ensemble de test\n",
        "y_pred = model.predict(X_test)\n",
        "\n",
        "# Calcul de la courbe ROC et AUC\n",
        "fpr, tpr, thresholds = roc_curve(y_test, y_pred)\n",
        "roc_auc = auc(fpr, tpr)\n",
        "\n",
        "# Affichage de la courbe AUC\n",
        "plt.figure()\n",
        "plt.plot(fpr, tpr, color='darkorange', lw=2, label='Courbe ROC (AUC = %0.2f)' % roc_auc)\n",
        "plt.plot([0, 1], [0, 1], color='navy', lw=2, linestyle='--')\n",
        "plt.xlim([0.0, 1.0])\n",
        "plt.ylim([0.0, 1.05])\n",
        "plt.xlabel('Taux de Faux Positifs')\n",
        "plt.ylabel('Taux de Vrais Positifs')\n",
        "plt.title('Courbe ROC')\n",
        "plt.legend(loc=\"lower right\")\n",
        "plt.show()"
      ]
    },
    {
      "cell_type": "code",
      "source": [
        "model.save('efficientnet_model.h5')"
      ],
      "metadata": {
        "id": "uUhsHJC_fM-J",
        "colab": {
          "base_uri": "https://localhost:8080/"
        },
        "outputId": "a62440b7-ef4e-45af-f469-ec074307a79d"
      },
      "execution_count": 16,
      "outputs": [
        {
          "output_type": "stream",
          "name": "stderr",
          "text": [
            "WARNING:absl:You are saving your model as an HDF5 file via `model.save()` or `keras.saving.save_model(model)`. This file format is considered legacy. We recommend using instead the native Keras format, e.g. `model.save('my_model.keras')` or `keras.saving.save_model(model, 'my_model.keras')`. \n"
          ]
        }
      ]
    },
    {
      "cell_type": "code",
      "source": [
        "from tensorflow.keras.models import load_model\n",
        "\n",
        "# Charger le modèle sauvegardé\n",
        "model_ = load_model('efficientnet_model.h5')\n",
        "\n",
        "# Utiliser le modèle pour des prédictions\n"
      ],
      "metadata": {
        "colab": {
          "base_uri": "https://localhost:8080/"
        },
        "id": "AOqh4XuSawVK",
        "outputId": "ef347385-d15d-4606-9782-26a5298737a2"
      },
      "execution_count": 17,
      "outputs": [
        {
          "output_type": "stream",
          "name": "stderr",
          "text": [
            "WARNING:absl:Compiled the loaded model, but the compiled metrics have yet to be built. `model.compile_metrics` will be empty until you train or evaluate the model.\n"
          ]
        }
      ]
    },
    {
      "cell_type": "code",
      "source": [
        "model"
      ],
      "metadata": {
        "colab": {
          "base_uri": "https://localhost:8080/"
        },
        "id": "iJQHCX9tbBzE",
        "outputId": "c299dca3-3c86-4e26-b722-aa8a55ce7161"
      },
      "execution_count": 19,
      "outputs": [
        {
          "output_type": "execute_result",
          "data": {
            "text/plain": [
              "<Functional name=functional_1, built=True>"
            ]
          },
          "metadata": {},
          "execution_count": 19
        }
      ]
    },
    {
      "cell_type": "code",
      "source": [
        "model_"
      ],
      "metadata": {
        "colab": {
          "base_uri": "https://localhost:8080/"
        },
        "id": "jf4bv2rdbAKu",
        "outputId": "075d9f3e-3302-418b-8ecf-eb5652738265"
      },
      "execution_count": 18,
      "outputs": [
        {
          "output_type": "execute_result",
          "data": {
            "text/plain": [
              "<Functional name=functional_1, built=True>"
            ]
          },
          "metadata": {},
          "execution_count": 18
        }
      ]
    },
    {
      "cell_type": "code",
      "source": [
        "predictions = model.predict(X_test)"
      ],
      "metadata": {
        "id": "yj65au-2a-Q1"
      },
      "execution_count": null,
      "outputs": []
    }
  ],
  "metadata": {
    "accelerator": "GPU",
    "colab": {
      "cell_execution_strategy": "setup",
      "gpuType": "T4",
      "provenance": []
    },
    "kernelspec": {
      "display_name": "Python 3",
      "name": "python3"
    },
    "language_info": {
      "codemirror_mode": {
        "name": "ipython",
        "version": 3
      },
      "file_extension": ".py",
      "mimetype": "text/x-python",
      "name": "python",
      "nbconvert_exporter": "python",
      "pygments_lexer": "ipython3",
      "version": "3.12.6"
    }
  },
  "nbformat": 4,
  "nbformat_minor": 0
}