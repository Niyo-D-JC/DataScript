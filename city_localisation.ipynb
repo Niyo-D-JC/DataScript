{
 "cells": [
  {
   "cell_type": "code",
   "execution_count": 35,
   "id": "ca6f0c84-b969-433c-9320-ad2b0fea1d8a",
   "metadata": {},
   "outputs": [],
   "source": [
    "import pandas as pd\n",
    "import requests"
   ]
  },
  {
   "cell_type": "code",
   "execution_count": 7,
   "id": "e1ecbb50-8469-40b5-92de-916352246cc9",
   "metadata": {},
   "outputs": [],
   "source": [
    "data = pd.DataFrame({\n",
    "    'longitude': [-4.962154, -4.698909, -4.737377, -4.747085],\n",
    "    'latitude': [48.382057, 48.036991, 48.323567, 48.395201]\n",
    "})"
   ]
  },
  {
   "cell_type": "code",
   "execution_count": 36,
   "id": "a4c91fd8-4b4f-4419-95b0-054d797b1385",
   "metadata": {},
   "outputs": [],
   "source": [
    "def reverse_geocode(latitude, longitude):\n",
    "    url = f\"https://nominatim.openstreetmap.org/reverse.php?lat={latitude}&lon={longitude}&zoom=18&format=jsonv2\"\n",
    "    response = requests.get(url)\n",
    "    if response.status_code == 200:\n",
    "        data = response.json()\n",
    "        print(data)\n",
    "        return data.get('display_name', 'N/A')\n",
    "    else:\n",
    "        return 'Erreur de requête'"
   ]
  },
  {
   "cell_type": "code",
   "execution_count": null,
   "id": "7e212e0f-aaf5-4f39-a0c6-ad1591ce95d0",
   "metadata": {},
   "outputs": [],
   "source": [
    "data['location'] = data.apply(lambda row: reverse_geocode(row['latitude'], row['longitude']), axis=1)\n",
    "data"
   ]
  },
  {
   "cell_type": "code",
   "execution_count": 45,
   "id": "9e9ec0da-b4c2-4609-9c6d-5c457e232470",
   "metadata": {},
   "outputs": [],
   "source": [
    "import urllib.request\n",
    "import json\n"
   ]
  },
  {
   "cell_type": "code",
   "execution_count": 46,
   "id": "5d3e6d33-6475-423f-840f-9d54a89d62ee",
   "metadata": {},
   "outputs": [],
   "source": [
    "req = urllib.request.Request(\"https://nominatim.openstreetmap.org/reverse.php?lat=48.036991&lon=-4.698909&zoom=18&format=jsonv2\", headers=headers)"
   ]
  },
  {
   "cell_type": "code",
   "execution_count": null,
   "id": "7001b2ad-e7b8-4394-8d96-ba65794025a4",
   "metadata": {},
   "outputs": [],
   "source": [
    "session = requests.Session()\n",
    "response = session.get(\"https://nominatim.openstreetmap.org/reverse.php?lat=48.036991&lon=-4.698909&zoom=18&format=jsonv2\")"
   ]
  },
  {
   "cell_type": "code",
   "execution_count": null,
   "id": "d0bd9c24-6f3c-4ab6-a9f8-d18ca2b4ec36",
   "metadata": {},
   "outputs": [],
   "source": [
    "headers = {\n",
    "    'User-Agent': 'PostmanRuntime/7.28.0',\n",
    "    'Accept': '*/*',\n",
    "    'Cache-Control': 'no-cache',\n",
    "    'Postman-Token': '98eae1e8-14d6-42ee-bb9c-7f4a2e6a5f2d',\n",
    "    'Host': 'nominatim.openstreetmap.org',\n",
    "    'Accept-Encoding': 'gzip, deflate, br',\n",
    "    'Connection': 'keep-alive'\n",
    "}\n",
    "response = requests.get(\"https://nominatim.openstreetmap.org/reverse.php?lat=48.036991&lon=-4.698909&zoom=18&format=jsonv2\", headers=headers, timeout=10) "
   ]
  },
  {
   "cell_type": "code",
   "execution_count": null,
   "id": "3ea1db68-47ec-4491-8ea1-489ca51f26bb",
   "metadata": {},
   "outputs": [],
   "source": []
  }
 ],
 "metadata": {
  "kernelspec": {
   "display_name": "env_carto - Python",
   "language": "python",
   "name": "conda-env-env_carto-py"
  },
  "language_info": {
   "codemirror_mode": {
    "name": "ipython",
    "version": 3
   },
   "file_extension": ".py",
   "mimetype": "text/x-python",
   "name": "python",
   "nbconvert_exporter": "python",
   "pygments_lexer": "ipython3",
   "version": "3.8.18"
  }
 },
 "nbformat": 4,
 "nbformat_minor": 5
}
