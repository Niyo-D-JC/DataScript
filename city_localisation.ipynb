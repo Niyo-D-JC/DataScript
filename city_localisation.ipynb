{
 "cells": [
  {
   "cell_type": "code",
   "execution_count": 60,
   "id": "ca6f0c84-b969-433c-9320-ad2b0fea1d8a",
   "metadata": {},
   "outputs": [],
   "source": [
    "import pandas as pd\n",
    "import requests\n",
    "import time"
   ]
  },
  {
   "cell_type": "code",
   "execution_count": 24,
   "id": "e1ecbb50-8469-40b5-92de-916352246cc9",
   "metadata": {},
   "outputs": [],
   "source": [
    "data = pd.DataFrame({\n",
    "    'longitude': [-4.962154, -4.698909, -4.737377, -4.747085],\n",
    "    'latitude': [48.382057, 48.036991, 48.323567, 48.395201]\n",
    "})"
   ]
  },
  {
   "cell_type": "code",
   "execution_count": 83,
   "id": "a4c91fd8-4b4f-4419-95b0-054d797b1385",
   "metadata": {},
   "outputs": [],
   "source": [
    "def reverse_geocode(latitude, longitude):\n",
    "    url = f\"https://nominatim.openstreetmap.org/reverse.php?lat={latitude}&lon={longitude}&zoom=18&format=jsonv2\"\n",
    "    session = requests.Session()\n",
    "    headers = {\n",
    "        'User-Agent': 'Mozilla/5.0',\n",
    "        'Referer': 'https://www.openstreetmap.org/'\n",
    "    }\n",
    "    response = session.get(url,headers=headers)\n",
    "    if response.status_code == 200:\n",
    "        res_json = response.json()\n",
    "        res = None\n",
    "        if list(res_json.keys())[0]!='error':\n",
    "            if 'city' in list(res_json[\"address\"].keys()):\n",
    "                res = res_json[\"address\"][\"city\"]\n",
    "            elif 'state' in list(res_json[\"address\"].keys()):\n",
    "                res = res_json[\"address\"][\"state\"]\n",
    "            else:\n",
    "                res = res_json[\"address\"][\"region\"]\n",
    "            return res\n",
    "    else:\n",
    "        return 'Erreur de requête'"
   ]
  },
  {
   "cell_type": "code",
   "execution_count": 84,
   "id": "7e212e0f-aaf5-4f39-a0c6-ad1591ce95d0",
   "metadata": {},
   "outputs": [
    {
     "data": {
      "text/html": [
       "<div>\n",
       "<style scoped>\n",
       "    .dataframe tbody tr th:only-of-type {\n",
       "        vertical-align: middle;\n",
       "    }\n",
       "\n",
       "    .dataframe tbody tr th {\n",
       "        vertical-align: top;\n",
       "    }\n",
       "\n",
       "    .dataframe thead th {\n",
       "        text-align: right;\n",
       "    }\n",
       "</style>\n",
       "<table border=\"1\" class=\"dataframe\">\n",
       "  <thead>\n",
       "    <tr style=\"text-align: right;\">\n",
       "      <th></th>\n",
       "      <th>longitude</th>\n",
       "      <th>latitude</th>\n",
       "      <th>location</th>\n",
       "    </tr>\n",
       "  </thead>\n",
       "  <tbody>\n",
       "    <tr>\n",
       "      <th>0</th>\n",
       "      <td>-4.962154</td>\n",
       "      <td>48.382057</td>\n",
       "      <td>France métropolitaine</td>\n",
       "    </tr>\n",
       "    <tr>\n",
       "      <th>1</th>\n",
       "      <td>-4.698909</td>\n",
       "      <td>48.036991</td>\n",
       "      <td>Bretagne</td>\n",
       "    </tr>\n",
       "    <tr>\n",
       "      <th>2</th>\n",
       "      <td>-4.737377</td>\n",
       "      <td>48.323567</td>\n",
       "      <td>Bretagne</td>\n",
       "    </tr>\n",
       "    <tr>\n",
       "      <th>3</th>\n",
       "      <td>-4.747085</td>\n",
       "      <td>48.395201</td>\n",
       "      <td>Bretagne</td>\n",
       "    </tr>\n",
       "  </tbody>\n",
       "</table>\n",
       "</div>"
      ],
      "text/plain": [
       "   longitude   latitude               location\n",
       "0  -4.962154  48.382057  France métropolitaine\n",
       "1  -4.698909  48.036991               Bretagne\n",
       "2  -4.737377  48.323567               Bretagne\n",
       "3  -4.747085  48.395201               Bretagne"
      ]
     },
     "execution_count": 84,
     "metadata": {},
     "output_type": "execute_result"
    }
   ],
   "source": [
    "data['location'] = data.apply(lambda row: reverse_geocode(row['latitude'], row['longitude']), axis=1)\n",
    "data"
   ]
  },
  {
   "cell_type": "code",
   "execution_count": 78,
   "id": "32013784",
   "metadata": {},
   "outputs": [
    {
     "data": {
      "text/plain": [
       "True"
      ]
     },
     "execution_count": 78,
     "metadata": {},
     "output_type": "execute_result"
    }
   ],
   "source": [
    "'region' in list(data['location'][0].keys())"
   ]
  },
  {
   "cell_type": "code",
   "execution_count": 82,
   "id": "d0bd9c24-6f3c-4ab6-a9f8-d18ca2b4ec36",
   "metadata": {},
   "outputs": [
    {
     "data": {
      "text/plain": [
       "200"
      ]
     },
     "execution_count": 82,
     "metadata": {},
     "output_type": "execute_result"
    }
   ],
   "source": [
    "session = requests.Session()\n",
    "headers = {\n",
    "    'User-Agent': 'Mozilla/5.0',\n",
    "    'Referer': 'https://www.openstreetmap.org/'\n",
    "}\n",
    "response = session.get(\"https://nominatim.openstreetmap.org/reverse.php?lat=48.036991&lon=-4.698909&zoom=18&format=jsonv2\", headers=headers, timeout=10)\n",
    "response.status_code"
   ]
  },
  {
   "cell_type": "code",
   "execution_count": null,
   "id": "3ea1db68-47ec-4491-8ea1-489ca51f26bb",
   "metadata": {},
   "outputs": [],
   "source": [
    "response.json()"
   ]
  }
 ],
 "metadata": {
  "kernelspec": {
   "display_name": "base",
   "language": "python",
   "name": "python3"
  },
  "language_info": {
   "codemirror_mode": {
    "name": "ipython",
    "version": 3
   },
   "file_extension": ".py",
   "mimetype": "text/x-python",
   "name": "python",
   "nbconvert_exporter": "python",
   "pygments_lexer": "ipython3",
   "version": "3.11.4"
  }
 },
 "nbformat": 4,
 "nbformat_minor": 5
}
